{
 "cells": [
  {
   "cell_type": "markdown",
   "id": "cb455e98",
   "metadata": {},
   "source": [
    "# 数据集转换"
   ]
  },
  {
   "cell_type": "markdown",
   "id": "5dd43825",
   "metadata": {},
   "source": [
    "## coseal/Magicoder-Evol-Instruct-110K-sft"
   ]
  },
  {
   "cell_type": "code",
   "execution_count": 14,
   "id": "d07fb74f",
   "metadata": {},
   "outputs": [
    {
     "name": "stdout",
     "output_type": "stream",
     "text": [
      "DatasetDict({\n",
      "    train: Dataset({\n",
      "        features: ['instruction', 'response'],\n",
      "        num_rows: 100772\n",
      "    })\n",
      "})\n"
     ]
    }
   ],
   "source": [
    "from datasets import load_dataset\n",
    "\n",
    "dataset = load_dataset(\"coseal/Magicoder-Evol-Instruct-110K-sft\")\n",
    "print(dataset)"
   ]
  },
  {
   "cell_type": "code",
   "execution_count": 15,
   "id": "e79e4378",
   "metadata": {},
   "outputs": [
    {
     "data": {
      "text/html": [
       "<div>\n",
       "<style scoped>\n",
       "    .dataframe tbody tr th:only-of-type {\n",
       "        vertical-align: middle;\n",
       "    }\n",
       "\n",
       "    .dataframe tbody tr th {\n",
       "        vertical-align: top;\n",
       "    }\n",
       "\n",
       "    .dataframe thead th {\n",
       "        text-align: right;\n",
       "    }\n",
       "</style>\n",
       "<table border=\"1\" class=\"dataframe\">\n",
       "  <thead>\n",
       "    <tr style=\"text-align: right;\">\n",
       "      <th></th>\n",
       "      <th>instruction</th>\n",
       "      <th>response</th>\n",
       "    </tr>\n",
       "  </thead>\n",
       "  <tbody>\n",
       "    <tr>\n",
       "      <th>0</th>\n",
       "      <td>Please amend the subsequent Python script so t...</td>\n",
       "      <td>```python\\n# Establish an integer list\\narr = ...</td>\n",
       "    </tr>\n",
       "    <tr>\n",
       "      <th>1</th>\n",
       "      <td>i've got this python code from an ocr tool, bu...</td>\n",
       "      <td>There are several issues with your code like f...</td>\n",
       "    </tr>\n",
       "    <tr>\n",
       "      <th>2</th>\n",
       "      <td>Create a recursive function in Java that predi...</td>\n",
       "      <td>You can achieve this using a combination of re...</td>\n",
       "    </tr>\n",
       "    <tr>\n",
       "      <th>3</th>\n",
       "      <td>Develop a program that uses natural language p...</td>\n",
       "      <td>This task requires writing of a significant vo...</td>\n",
       "    </tr>\n",
       "    <tr>\n",
       "      <th>4</th>\n",
       "      <td>I am trying to create a load testing script fo...</td>\n",
       "      <td>The correct approach would depend on the preci...</td>\n",
       "    </tr>\n",
       "    <tr>\n",
       "      <th>...</th>\n",
       "      <td>...</td>\n",
       "      <td>...</td>\n",
       "    </tr>\n",
       "    <tr>\n",
       "      <th>100767</th>\n",
       "      <td>Create a function that not only detects any ch...</td>\n",
       "      <td>In Python, we could use the difflib module and...</td>\n",
       "    </tr>\n",
       "    <tr>\n",
       "      <th>100768</th>\n",
       "      <td>Conduct a comprehensive exploratory data analy...</td>\n",
       "      <td>Sorry, as an AI developed by Open AI, I can't ...</td>\n",
       "    </tr>\n",
       "    <tr>\n",
       "      <th>100769</th>\n",
       "      <td>I used OCR to get this Python code, but it's f...</td>\n",
       "      <td>Sure, I can help with that. Let me reformat th...</td>\n",
       "    </tr>\n",
       "    <tr>\n",
       "      <th>100770</th>\n",
       "      <td>Write a JavaScript function that will take an ...</td>\n",
       "      <td>Sure, I'll provide you with a simple example o...</td>\n",
       "    </tr>\n",
       "    <tr>\n",
       "      <th>100771</th>\n",
       "      <td>Is there a PDE that decomposes the daily PnL a...</td>\n",
       "      <td>In the Bachelier model, or normally distribute...</td>\n",
       "    </tr>\n",
       "  </tbody>\n",
       "</table>\n",
       "<p>100772 rows × 2 columns</p>\n",
       "</div>"
      ],
      "text/plain": [
       "                                              instruction  \\\n",
       "0       Please amend the subsequent Python script so t...   \n",
       "1       i've got this python code from an ocr tool, bu...   \n",
       "2       Create a recursive function in Java that predi...   \n",
       "3       Develop a program that uses natural language p...   \n",
       "4       I am trying to create a load testing script fo...   \n",
       "...                                                   ...   \n",
       "100767  Create a function that not only detects any ch...   \n",
       "100768  Conduct a comprehensive exploratory data analy...   \n",
       "100769  I used OCR to get this Python code, but it's f...   \n",
       "100770  Write a JavaScript function that will take an ...   \n",
       "100771  Is there a PDE that decomposes the daily PnL a...   \n",
       "\n",
       "                                                 response  \n",
       "0       ```python\\n# Establish an integer list\\narr = ...  \n",
       "1       There are several issues with your code like f...  \n",
       "2       You can achieve this using a combination of re...  \n",
       "3       This task requires writing of a significant vo...  \n",
       "4       The correct approach would depend on the preci...  \n",
       "...                                                   ...  \n",
       "100767  In Python, we could use the difflib module and...  \n",
       "100768  Sorry, as an AI developed by Open AI, I can't ...  \n",
       "100769  Sure, I can help with that. Let me reformat th...  \n",
       "100770  Sure, I'll provide you with a simple example o...  \n",
       "100771  In the Bachelier model, or normally distribute...  \n",
       "\n",
       "[100772 rows x 2 columns]"
      ]
     },
     "execution_count": 15,
     "metadata": {},
     "output_type": "execute_result"
    }
   ],
   "source": [
    "import pandas as pd\n",
    "\n",
    "df = pd.DataFrame(dataset[\"train\"])\n",
    "df"
   ]
  },
  {
   "cell_type": "code",
   "execution_count": 16,
   "id": "dc75960c",
   "metadata": {},
   "outputs": [
    {
     "name": "stderr",
     "output_type": "stream",
     "text": [
      "2024-03-26 19:23:32.328 | INFO     | metagpt.const:get_metagpt_package_root:29 - Package root set to /Users/deryzhou/Downloads/StreamChatPlayground/notebooks\n"
     ]
    },
    {
     "data": {
      "text/html": [
       "<div>\n",
       "<style scoped>\n",
       "    .dataframe tbody tr th:only-of-type {\n",
       "        vertical-align: middle;\n",
       "    }\n",
       "\n",
       "    .dataframe tbody tr th {\n",
       "        vertical-align: top;\n",
       "    }\n",
       "\n",
       "    .dataframe thead th {\n",
       "        text-align: right;\n",
       "    }\n",
       "</style>\n",
       "<table border=\"1\" class=\"dataframe\">\n",
       "  <thead>\n",
       "    <tr style=\"text-align: right;\">\n",
       "      <th></th>\n",
       "      <th>input</th>\n",
       "      <th>output</th>\n",
       "    </tr>\n",
       "  </thead>\n",
       "  <tbody>\n",
       "    <tr>\n",
       "      <th>0</th>\n",
       "      <td>Please amend the subsequent Python script so t...</td>\n",
       "      <td>```python\\n# Establish an integer list\\narr = ...</td>\n",
       "    </tr>\n",
       "    <tr>\n",
       "      <th>1</th>\n",
       "      <td>i've got this python code from an ocr tool, bu...</td>\n",
       "      <td>There are several issues with your code like f...</td>\n",
       "    </tr>\n",
       "    <tr>\n",
       "      <th>3</th>\n",
       "      <td>Develop a program that uses natural language p...</td>\n",
       "      <td>This task requires writing of a significant vo...</td>\n",
       "    </tr>\n",
       "    <tr>\n",
       "      <th>8</th>\n",
       "      <td>Develop a method that not only incorporates a ...</td>\n",
       "      <td>You can implement this task in Python:\\n\\n```p...</td>\n",
       "    </tr>\n",
       "    <tr>\n",
       "      <th>9</th>\n",
       "      <td>Write a Python program that takes a list and a...</td>\n",
       "      <td>Here is a Python program that does just that:\\...</td>\n",
       "    </tr>\n",
       "    <tr>\n",
       "      <th>...</th>\n",
       "      <td>...</td>\n",
       "      <td>...</td>\n",
       "    </tr>\n",
       "    <tr>\n",
       "      <th>100763</th>\n",
       "      <td>Modify and optimize the given erroneous code t...</td>\n",
       "      <td>This erroneous code uses the bubble sort algor...</td>\n",
       "    </tr>\n",
       "    <tr>\n",
       "      <th>100764</th>\n",
       "      <td>Utilize the BeautifulSoup package to orchestra...</td>\n",
       "      <td>You can extract the title tag content from the...</td>\n",
       "    </tr>\n",
       "    <tr>\n",
       "      <th>100765</th>\n",
       "      <td>Implement a function that can insert multiple ...</td>\n",
       "      <td>Here is the Python implementation:\\n\\n```pytho...</td>\n",
       "    </tr>\n",
       "    <tr>\n",
       "      <th>100767</th>\n",
       "      <td>Create a function that not only detects any ch...</td>\n",
       "      <td>In Python, we could use the difflib module and...</td>\n",
       "    </tr>\n",
       "    <tr>\n",
       "      <th>100769</th>\n",
       "      <td>I used OCR to get this Python code, but it's f...</td>\n",
       "      <td>Sure, I can help with that. Let me reformat th...</td>\n",
       "    </tr>\n",
       "  </tbody>\n",
       "</table>\n",
       "<p>43976 rows × 2 columns</p>\n",
       "</div>"
      ],
      "text/plain": [
       "                                                    input  \\\n",
       "0       Please amend the subsequent Python script so t...   \n",
       "1       i've got this python code from an ocr tool, bu...   \n",
       "3       Develop a program that uses natural language p...   \n",
       "8       Develop a method that not only incorporates a ...   \n",
       "9       Write a Python program that takes a list and a...   \n",
       "...                                                   ...   \n",
       "100763  Modify and optimize the given erroneous code t...   \n",
       "100764  Utilize the BeautifulSoup package to orchestra...   \n",
       "100765  Implement a function that can insert multiple ...   \n",
       "100767  Create a function that not only detects any ch...   \n",
       "100769  I used OCR to get this Python code, but it's f...   \n",
       "\n",
       "                                                   output  \n",
       "0       ```python\\n# Establish an integer list\\narr = ...  \n",
       "1       There are several issues with your code like f...  \n",
       "3       This task requires writing of a significant vo...  \n",
       "8       You can implement this task in Python:\\n\\n```p...  \n",
       "9       Here is a Python program that does just that:\\...  \n",
       "...                                                   ...  \n",
       "100763  This erroneous code uses the bubble sort algor...  \n",
       "100764  You can extract the title tag content from the...  \n",
       "100765  Here is the Python implementation:\\n\\n```pytho...  \n",
       "100767  In Python, we could use the difflib module and...  \n",
       "100769  Sure, I can help with that. Let me reformat th...  \n",
       "\n",
       "[43976 rows x 2 columns]"
      ]
     },
     "execution_count": 16,
     "metadata": {},
     "output_type": "execute_result"
    }
   ],
   "source": [
    "from metagpt.utils.common import OutputParser\n",
    "\n",
    "def is_python_code(row):\n",
    "    # instruction = row.instruction\n",
    "    response = row.response\n",
    "\n",
    "    try:\n",
    "        code = OutputParser.parse_code(response, \"python\")\n",
    "        if len(code) > 10:\n",
    "            return True\n",
    "    except:\n",
    "        pass\n",
    "    return False\n",
    "\n",
    "df[\"ispy\"] = df.apply(is_python_code, axis=1)\n",
    "xdf = df[df.ispy][[\"instruction\",\"response\"]].copy().rename(columns={\"instruction\": \"input\", \"response\": \"output\"})\n",
    "xdf"
   ]
  },
  {
   "cell_type": "code",
   "execution_count": 17,
   "id": "9752960f",
   "metadata": {},
   "outputs": [],
   "source": [
    "xdf.to_json(\"magicoder.jsonl\", orient='records', lines=True)"
   ]
  },
  {
   "cell_type": "markdown",
   "id": "2c396d7b",
   "metadata": {},
   "source": [
    "# 数据收集"
   ]
  },
  {
   "cell_type": "markdown",
   "id": "56312a7d",
   "metadata": {},
   "source": [
    "## SWE-bench\n",
    "\n",
    "```bash\n",
    "$ pip3 install sentencepiece\n",
    "```"
   ]
  },
  {
   "cell_type": "code",
   "execution_count": 1,
   "id": "7eafb5ee",
   "metadata": {},
   "outputs": [
    {
     "name": "stderr",
     "output_type": "stream",
     "text": [
      "2024-03-29 10:54:35,976 WARNING Disabling caching\n"
     ]
    },
    {
     "data": {
      "application/vnd.jupyter.widget-view+json": {
       "model_id": "5c2f815f56504e6b9d8f3601cb8de1f1",
       "version_major": 2,
       "version_minor": 0
      },
      "text/plain": [
       "tokenizer_config.json:   0%|          | 0.00/942 [00:00<?, ?B/s]"
      ]
     },
     "metadata": {},
     "output_type": "display_data"
    },
    {
     "data": {
      "application/vnd.jupyter.widget-view+json": {
       "model_id": "872b445e1c25430fa2d9f374c85d9246",
       "version_major": 2,
       "version_minor": 0
      },
      "text/plain": [
       "tokenizer.model:   0%|          | 0.00/500k [00:00<?, ?B/s]"
      ]
     },
     "metadata": {},
     "output_type": "display_data"
    },
    {
     "data": {
      "application/vnd.jupyter.widget-view+json": {
       "model_id": "ec78e82c9bf049c0b869e55dcaaa7a40",
       "version_major": 2,
       "version_minor": 0
      },
      "text/plain": [
       "added_tokens.json:   0%|          | 0.00/4.00 [00:00<?, ?B/s]"
      ]
     },
     "metadata": {},
     "output_type": "display_data"
    },
    {
     "data": {
      "application/vnd.jupyter.widget-view+json": {
       "model_id": "3a984b7de1144e0b83e1c57561df700a",
       "version_major": 2,
       "version_minor": 0
      },
      "text/plain": [
       "special_tokens_map.json:   0%|          | 0.00/96.0 [00:00<?, ?B/s]"
      ]
     },
     "metadata": {},
     "output_type": "display_data"
    },
    {
     "data": {
      "application/vnd.jupyter.widget-view+json": {
       "model_id": "0446eb67d9004e99815cc5599875c2e7",
       "version_major": 2,
       "version_minor": 0
      },
      "text/plain": [
       "tokenizer.json:   0%|          | 0.00/1.84M [00:00<?, ?B/s]"
      ]
     },
     "metadata": {},
     "output_type": "display_data"
    },
    {
     "data": {
      "text/plain": [
       "{'style-2': <function SWE_bench.inference.make_datasets.create_instance.prompt_style_2(instance)>,\n",
       " 'style-3': <function SWE_bench.inference.make_datasets.create_instance.prompt_style_3(instance)>,\n",
       " 'full_file_gen': <function SWE_bench.inference.make_datasets.create_instance.full_file_gen(instance)>,\n",
       " 'style-2-edits-only': <function SWE_bench.inference.make_datasets.create_instance.prompt_style_2_edits_only(instance)>}"
      ]
     },
     "execution_count": 1,
     "metadata": {},
     "output_type": "execute_result"
    }
   ],
   "source": [
    "import os, sys\n",
    "parent_path = os.path.dirname(os.getcwd())\n",
    "sys.path.append(parent_path)\n",
    "# SWE_path = os.path.join(os.path.dirname(os.getcwd()), \"SWE_bench\")\n",
    "# sys.path.append(SWE_path)\n",
    "\n",
    "from SWE_bench.inference.make_datasets.create_instance import PROMPT_FUNCTIONS, add_text_inputs, TOKENIZER_FUNCS\n",
    "\n",
    "PROMPT_FUNCTIONS"
   ]
  },
  {
   "cell_type": "code",
   "execution_count": 2,
   "id": "7378411f",
   "metadata": {},
   "outputs": [
    {
     "data": {
      "application/vnd.jupyter.widget-view+json": {
       "model_id": "1ea790888e7b443fa9db783b7a5055f7",
       "version_major": 2,
       "version_minor": 0
      },
      "text/plain": [
       "Downloading readme:   0%|          | 0.00/3.88k [00:00<?, ?B/s]"
      ]
     },
     "metadata": {},
     "output_type": "display_data"
    },
    {
     "name": "stderr",
     "output_type": "stream",
     "text": [
      "Downloading data: 100%|██████████| 1.38M/1.38M [00:07<00:00, 186kB/s]\n",
      "Downloading data: 100%|██████████| 11.8M/11.8M [00:21<00:00, 541kB/s]\n",
      "Downloading data: 100%|██████████| 107M/107M [00:34<00:00, 3.10MB/s] \n"
     ]
    },
    {
     "data": {
      "application/vnd.jupyter.widget-view+json": {
       "model_id": "e50718c265ec44b6904c40a852a3d4c5",
       "version_major": 2,
       "version_minor": 0
      },
      "text/plain": [
       "Generating dev split:   0%|          | 0/225 [00:00<?, ? examples/s]"
      ]
     },
     "metadata": {},
     "output_type": "display_data"
    },
    {
     "data": {
      "application/vnd.jupyter.widget-view+json": {
       "model_id": "5bf41cb399704853a7344c8840254803",
       "version_major": 2,
       "version_minor": 0
      },
      "text/plain": [
       "Generating test split:   0%|          | 0/2294 [00:00<?, ? examples/s]"
      ]
     },
     "metadata": {},
     "output_type": "display_data"
    },
    {
     "data": {
      "application/vnd.jupyter.widget-view+json": {
       "model_id": "02a50cf13bb04fb385aac9c387766c62",
       "version_major": 2,
       "version_minor": 0
      },
      "text/plain": [
       "Generating train split:   0%|          | 0/19008 [00:00<?, ? examples/s]"
      ]
     },
     "metadata": {},
     "output_type": "display_data"
    },
    {
     "name": "stdout",
     "output_type": "stream",
     "text": [
      "DatasetDict({\n",
      "    dev: Dataset({\n",
      "        features: ['repo', 'instance_id', 'base_commit', 'patch', 'test_patch', 'problem_statement', 'hints_text', 'created_at', 'version', 'FAIL_TO_PASS', 'PASS_TO_PASS', 'environment_setup_commit'],\n",
      "        num_rows: 225\n",
      "    })\n",
      "    test: Dataset({\n",
      "        features: ['repo', 'instance_id', 'base_commit', 'patch', 'test_patch', 'problem_statement', 'hints_text', 'created_at', 'version', 'FAIL_TO_PASS', 'PASS_TO_PASS', 'environment_setup_commit'],\n",
      "        num_rows: 2294\n",
      "    })\n",
      "    train: Dataset({\n",
      "        features: ['repo', 'instance_id', 'base_commit', 'patch', 'test_patch', 'problem_statement', 'hints_text', 'created_at', 'version', 'FAIL_TO_PASS', 'PASS_TO_PASS', 'environment_setup_commit'],\n",
      "        num_rows: 19008\n",
      "    })\n",
      "})\n"
     ]
    }
   ],
   "source": [
    "from datasets import load_dataset\n",
    "\n",
    "dataset = load_dataset(\"princeton-nlp/SWE-bench\")\n",
    "print(dataset)"
   ]
  },
  {
   "cell_type": "code",
   "execution_count": 21,
   "id": "a0034940",
   "metadata": {},
   "outputs": [
    {
     "data": {
      "text/plain": [
       "repo                                                        sqlfluff/sqlfluff\n",
       "instance_id                                           sqlfluff__sqlfluff-4764\n",
       "base_commit                          a820c139ccbe6d1865d73c4a459945cd69899f8f\n",
       "patch                       diff --git a/src/sqlfluff/cli/commands.py b/sr...\n",
       "test_patch                  diff --git a/test/cli/commands_test.py b/test/...\n",
       "problem_statement           Enable quiet mode/no-verbose in CLI for use in...\n",
       "hints_text                                                                   \n",
       "created_at                                               2023-04-16T14:24:42Z\n",
       "version                                                                   1.4\n",
       "FAIL_TO_PASS                [\"test/cli/commands_test.py::test__cli__fix_mu...\n",
       "PASS_TO_PASS                [\"test/cli/commands_test.py::test__cli__comman...\n",
       "environment_setup_commit             d19de0ecd16d298f9e3bfb91da122734c40c01e5\n",
       "Name: 0, dtype: object"
      ]
     },
     "execution_count": 21,
     "metadata": {},
     "output_type": "execute_result"
    }
   ],
   "source": [
    "import pandas as pd\n",
    "\n",
    "df = pd.DataFrame(dataset[\"dev\"])\n",
    "df.iloc[0]"
   ]
  },
  {
   "cell_type": "code",
   "execution_count": 28,
   "id": "763a7a8a",
   "metadata": {},
   "outputs": [
    {
     "name": "stdout",
     "output_type": "stream",
     "text": [
      "You will be provided with a partial code base and an issue statement explaining a problem to resolve.\n",
      "<issue>\n",
      "Enable quiet mode/no-verbose in CLI for use in pre-commit hook\n",
      "There seems to be only an option to increase the level of verbosity when using SQLFluff [CLI](https://docs.sqlfluff.com/en/stable/cli.html), not to limit it further.\n",
      "\n",
      "It would be great to have an option to further limit the amount of prints when running `sqlfluff fix`, especially in combination with deployment using a pre-commit hook. For example, only print the return status and the number of fixes applied, similar to how it is when using `black` in a pre-commit hook:\n",
      "![image](https://user-images.githubusercontent.com/10177212/140480676-dc98d00b-4383-44f2-bb90-3301a6eedec2.png)\n",
      "\n",
      "This hides the potentially long list of fixes that are being applied to the SQL files, which can get quite verbose.\n",
      "\n",
      "</issue>\n",
      "\n",
      "<code>\n",
      "\n",
      "\n",
      "</code>\n",
      "\n",
      "Here is an example of a patch file. It consists of changes to the code base. It specifies the file names, the line numbers of each change, and the removed and added lines. A single patch file can contain changes to multiple files.\n",
      "<patch>\n",
      "--- a/file.py\n",
      "+++ b/file.py\n",
      "@@ -1,27 +1,35 @@\n",
      " def euclidean(a, b):\n",
      "-    while b:\n",
      "-        a, b = b, a % b\n",
      "-    return a\n",
      "+    if b == 0:\n",
      "+        return a\n",
      "+    return euclidean(b, a % b)\n",
      " \n",
      " \n",
      " def bresenham(x0, y0, x1, y1):\n",
      "     points = []\n",
      "     dx = abs(x1 - x0)\n",
      "     dy = abs(y1 - y0)\n",
      "-    sx = 1 if x0 < x1 else -1\n",
      "-    sy = 1 if y0 < y1 else -1\n",
      "-    err = dx - dy\n",
      "+    x, y = x0, y0\n",
      "+    sx = -1 if x0 > x1 else 1\n",
      "+    sy = -1 if y0 > y1 else 1\n",
      " \n",
      "-    while True:\n",
      "-        points.append((x0, y0))\n",
      "-        if x0 == x1 and y0 == y1:\n",
      "-            break\n",
      "-        e2 = 2 * err\n",
      "-        if e2 > -dy:\n",
      "+    if dx > dy:\n",
      "+        err = dx / 2.0\n",
      "+        while x != x1:\n",
      "+            points.append((x, y))\n",
      "             err -= dy\n",
      "-            x0 += sx\n",
      "-        if e2 < dx:\n",
      "-            err += dx\n",
      "-            y0 += sy\n",
      "+            if err < 0:\n",
      "+                y += sy\n",
      "+                err += dx\n",
      "+            x += sx\n",
      "+    else:\n",
      "+        err = dy / 2.0\n",
      "+        while y != y1:\n",
      "+            points.append((x, y))\n",
      "+            err -= dx\n",
      "+            if err < 0:\n",
      "+                x += sx\n",
      "+                err += dy\n",
      "+            y += sy\n",
      " \n",
      "+    points.append((x, y))\n",
      "     return points\n",
      "</patch>\n",
      "\n",
      "I need you to solve the provided issue by generating a single patch file that I can apply directly to this repository using git apply. Please respond with a single patch file in the format shown above.\n",
      "Respond below:\n"
     ]
    }
   ],
   "source": [
    "from copy import deepcopy\n",
    "\n",
    "instance = deepcopy(df.iloc[0])\n",
    "instance[\"readmes\"] = dict()\n",
    "instance[\"file_contents\"] = dict()\n",
    "base_text_inputs = PROMPT_FUNCTIONS[\"style-3\"](instance)\n",
    "print(base_text_inputs)"
   ]
  },
  {
   "cell_type": "code",
   "execution_count": 30,
   "id": "43e3ab95",
   "metadata": {},
   "outputs": [
    {
     "data": {
      "text/plain": [
       "738"
      ]
     },
     "execution_count": 30,
     "metadata": {},
     "output_type": "execute_result"
    }
   ],
   "source": [
    "tokenizer, tokenizer_func = TOKENIZER_FUNCS[\"cl100k\"]\n",
    "len(tokenizer_func(base_text_inputs, tokenizer))"
   ]
  },
  {
   "cell_type": "markdown",
   "id": "72416368",
   "metadata": {},
   "source": [
    "#  数据集分析"
   ]
  },
  {
   "cell_type": "markdown",
   "id": "507b6bd3",
   "metadata": {},
   "source": [
    "## [princeton-nlp/SWE-bench_Lite](https://huggingface.co/datasets/princeton-nlp/SWE-bench_Lite)\n",
    "\n",
    "```\n",
    "instance_id: (str) - A formatted instance identifier, usually as repo_owner__repo_name-PR-number.\n",
    "patch: (str) - The gold patch, the patch generated by the PR (minus test-related code), that resolved the issue.\n",
    "repo: (str) - The repository owner/name identifier from GitHub.\n",
    "base_commit: (str) - The commit hash of the repository representing the HEAD of the repository before the solution PR is applied.\n",
    "hints_text: (str) - Comments made on the issue prior to the creation of the solution PR’s first commit creation date.\n",
    "created_at: (str) - The creation date of the pull request.\n",
    "test_patch: (str) - A test-file patch that was contributed by the solution PR.\n",
    "problem_statement: (str) - The issue title and body.\n",
    "version: (str) - Installation version to use for running evaluation.\n",
    "environment_setup_commit: (str) - commit hash to use for environment setup and installation.\n",
    "FAIL_TO_PASS: (str) - A json list of strings that represent the set of tests resolved by the PR and tied to the issue resolution.\n",
    "PASS_TO_PASS: (str) - A json list of strings that represent tests that should pass before and after the PR application.\n",
    "```"
   ]
  },
  {
   "cell_type": "code",
   "execution_count": 3,
   "id": "bfc9eae6",
   "metadata": {},
   "outputs": [
    {
     "data": {
      "text/plain": [
       "Dataset({\n",
       "    features: ['repo', 'instance_id', 'base_commit', 'patch', 'test_patch', 'problem_statement', 'hints_text', 'created_at', 'version', 'FAIL_TO_PASS', 'PASS_TO_PASS', 'environment_setup_commit'],\n",
       "    num_rows: 23\n",
       "})"
      ]
     },
     "execution_count": 3,
     "metadata": {},
     "output_type": "execute_result"
    }
   ],
   "source": [
    "from datasets import load_dataset\n",
    "\n",
    "dataset = load_dataset(\"princeton-nlp/SWE-bench_Lite\")\n",
    "dataset[\"dev\"]"
   ]
  },
  {
   "cell_type": "code",
   "execution_count": 28,
   "id": "c5a8cfd6",
   "metadata": {},
   "outputs": [
    {
     "name": "stderr",
     "output_type": "stream",
     "text": [
      "2024-04-07 15:58:52.651 | INFO     | __main__:<module>:10 - ▶️  Beginning task 6\n",
      "2024-04-07 15:58:52.653 | INFO     | __main__:<module>:38 - {\n",
      "  \"issue\": \"[version 2.20.0] TypeError: 'NoneType' object is not subscriptable\\nAfter update from version 2.19.5 to 2.20.0 I got error for code like:\\r\\n\\r\\n```python\\r\\nfrom marshmallow import Schema, fields, validates\\r\\n\\r\\n\\r\\nclass Bar(Schema):\\r\\n    value = fields.String()\\r\\n\\r\\n    @validates('value')  # <- issue here\\r\\n    def validate_value(self, value):\\r\\n        pass\\r\\n\\r\\n\\r\\nclass Foo(Schema):\\r\\n    bar = fields.Nested(Bar)\\r\\n\\r\\n\\r\\nsch = Foo()\\r\\n\\r\\nsch.validate({\\r\\n    'bar': 'invalid',\\r\\n})\\r\\n```\\r\\n\\r\\n```\\r\\nTraceback (most recent call last):\\r\\n  File \\\"/_/bug_mschema.py\\\", line 19, in <module>\\r\\n    'bar': 'invalid',\\r\\n  File \\\"/_/env/lib/python3.7/site-packages/marshmallow/schema.py\\\", line 628, in validate\\r\\n    _, errors = self._do_load(data, many, partial=partial, postprocess=False)\\r\\n  File \\\"/_/env/lib/python3.7/site-packages/marshmallow/schema.py\\\", line 670, in _do_load\\r\\n    index_errors=self.opts.index_errors,\\r\\n  File \\\"/_/env/lib/python3.7/site-packages/marshmallow/marshalling.py\\\", line 292, in deserialize\\r\\n    index=(index if index_errors else None)\\r\\n  File \\\"/_/env/lib/python3.7/site-packages/marshmallow/marshalling.py\\\", line 65, in call_and_store\\r\\n    value = getter_func(data)\\r\\n  File \\\"/_/env/lib/python3.7/site-packages/marshmallow/marshalling.py\\\", line 285, in <lambda>\\r\\n    data\\r\\n  File \\\"/_/env/lib/python3.7/site-packages/marshmallow/fields.py\\\", line 265, in deserialize\\r\\n    output = self._deserialize(value, attr, data)\\r\\n  File \\\"/_/env/lib/python3.7/site-packages/marshmallow/fields.py\\\", line 465, in _deserialize\\r\\n    data, errors = self.schema.load(value)\\r\\n  File \\\"/_/env/lib/python3.7/site-packages/marshmallow/schema.py\\\", line 588, in load\\r\\n    result, errors = self._do_load(data, many, partial=partial, postprocess=True)\\r\\n  File \\\"/_/env/lib/python3.7/site-packages/marshmallow/schema.py\\\", line 674, in _do_load\\r\\n    self._invoke_field_validators(unmarshal, data=result, many=many)\\r\\n  File \\\"/_/env/lib/python3.7/site-packages/marshmallow/schema.py\\\", line 894, in _invoke_field_validators\\r\\n    value = data[field_obj.attribute or field_name]\\r\\nTypeError: 'NoneType' object is not subscriptable\\r\\n```\\n\",\n",
      "  \"files\": \"- src/marshmallow/schema.py\",\n",
      "  \"test_files\": \"- tests/test_marshalling.py\",\n",
      "  \"tests\": \"- tests/test_marshalling.py::TestUnmarshaller::test_deserialize_wrong_nested_type_with_validates_method\"\n",
      "}\n"
     ]
    },
    {
     "name": "stdout",
     "output_type": "stream",
     "text": [
      "[version 2.20.0] TypeError: 'NoneType' object is not subscriptable\n",
      "After update from version 2.19.5 to 2.20.0 I got error for code like:\n",
      "\n",
      "```python\n",
      "from marshmallow import Schema, fields, validates\n",
      "\n",
      "\n",
      "class Bar(Schema):\n",
      "    value = fields.String()\n",
      "\n",
      "    @validates('value')  # <- issue here\n",
      "    def validate_value(self, value):\n",
      "        pass\n",
      "\n",
      "\n",
      "class Foo(Schema):\n",
      "    bar = fields.Nested(Bar)\n",
      "\n",
      "\n",
      "sch = Foo()\n",
      "\n",
      "sch.validate({\n",
      "    'bar': 'invalid',\n",
      "})\n",
      "```\n",
      "\n",
      "```\n",
      "Traceback (most recent call last):\n",
      "  File \"/_/bug_mschema.py\", line 19, in <module>\n",
      "    'bar': 'invalid',\n",
      "  File \"/_/env/lib/python3.7/site-packages/marshmallow/schema.py\", line 628, in validate\n",
      "    _, errors = self._do_load(data, many, partial=partial, postprocess=False)\n",
      "  File \"/_/env/lib/python3.7/site-packages/marshmallow/schema.py\", line 670, in _do_load\n",
      "    index_errors=self.opts.index_errors,\n",
      "  File \"/_/env/lib/python3.7/site-packages/marshmallow/marshalling.py\", line 292, in deserialize\n",
      "    index=(index if index_errors else None)\n",
      "  File \"/_/env/lib/python3.7/site-packages/marshmallow/marshalling.py\", line 65, in call_and_store\n",
      "    value = getter_func(data)\n",
      "  File \"/_/env/lib/python3.7/site-packages/marshmallow/marshalling.py\", line 285, in <lambda>\n",
      "    data\n",
      "  File \"/_/env/lib/python3.7/site-packages/marshmallow/fields.py\", line 265, in deserialize\n",
      "    output = self._deserialize(value, attr, data)\n",
      "  File \"/_/env/lib/python3.7/site-packages/marshmallow/fields.py\", line 465, in _deserialize\n",
      "    data, errors = self.schema.load(value)\n",
      "  File \"/_/env/lib/python3.7/site-packages/marshmallow/schema.py\", line 588, in load\n",
      "    result, errors = self._do_load(data, many, partial=partial, postprocess=True)\n",
      "  File \"/_/env/lib/python3.7/site-packages/marshmallow/schema.py\", line 674, in _do_load\n",
      "    self._invoke_field_validators(unmarshal, data=result, many=many)\n",
      "  File \"/_/env/lib/python3.7/site-packages/marshmallow/schema.py\", line 894, in _invoke_field_validators\n",
      "    value = data[field_obj.attribute or field_name]\n",
      "TypeError: 'NoneType' object is not subscriptable\n",
      "```\n",
      "\n"
     ]
    }
   ],
   "source": [
    "import json\n",
    "from loguru import logger\n",
    "from unidiff import PatchSet\n",
    "\n",
    "data = dataset[\"dev\"]\n",
    "\n",
    "results = []\n",
    "for index in [6]: # range(len(data)):\n",
    "    instance_id = data[index][\"instance_id\"]\n",
    "    logger.info(\"▶️  Beginning task \" + str(index))\n",
    "    record = data[index]\n",
    "\n",
    "    issue = record[\"problem_statement\"]\n",
    "    files = []\n",
    "    if \"patch\" in record:\n",
    "        files = \"\\n\".join(\n",
    "            [f\"- {x.path}\" for x in PatchSet(record[\"patch\"]).modified_files]\n",
    "        )\n",
    "    test_files = []\n",
    "    if \"test_patch\" in record:\n",
    "        test_patch_obj = PatchSet(record[\"test_patch\"])\n",
    "        test_files = \"\\n\".join(\n",
    "            [f\"- {x.path}\" for x in test_patch_obj.modified_files + test_patch_obj.added_files]\n",
    "        )\n",
    "\n",
    "    tests = \"\"\n",
    "    if \"FAIL_TO_PASS\" in record:\n",
    "        objs = json.loads(record[\"FAIL_TO_PASS\"])\n",
    "        tests = \"\\n\".join([f\"- {x}\" for x in objs])\n",
    "\n",
    "    args = {\n",
    "        \"issue\": issue,\n",
    "        \"files\": files,\n",
    "        \"test_files\": test_files,\n",
    "        \"tests\": tests\n",
    "    }\n",
    "    results.append(args)\n",
    "    logger.info(json.dumps(args, indent=2))\n",
    "\n",
    "print(results[0][\"issue\"])"
   ]
  },
  {
   "cell_type": "code",
   "execution_count": 27,
   "id": "3a8c4752",
   "metadata": {},
   "outputs": [
    {
     "data": {
      "text/plain": [
       "{'repo': 'marshmallow-code/marshmallow',\n",
       " 'instance_id': 'marshmallow-code__marshmallow-1343',\n",
       " 'base_commit': '2be2d83a1a9a6d3d9b85804f3ab545cecc409bb0',\n",
       " 'patch': 'diff --git a/src/marshmallow/schema.py b/src/marshmallow/schema.py\\n--- a/src/marshmallow/schema.py\\n+++ b/src/marshmallow/schema.py\\n@@ -877,7 +877,7 @@ def _invoke_field_validators(self, unmarshal, data, many):\\n                 for idx, item in enumerate(data):\\n                     try:\\n                         value = item[field_obj.attribute or field_name]\\n-                    except KeyError:\\n+                    except (KeyError, TypeError):\\n                         pass\\n                     else:\\n                         validated_value = unmarshal.call_and_store(\\n@@ -892,7 +892,7 @@ def _invoke_field_validators(self, unmarshal, data, many):\\n             else:\\n                 try:\\n                     value = data[field_obj.attribute or field_name]\\n-                except KeyError:\\n+                except (KeyError, TypeError):\\n                     pass\\n                 else:\\n                     validated_value = unmarshal.call_and_store(\\n',\n",
       " 'test_patch': \"diff --git a/tests/test_marshalling.py b/tests/test_marshalling.py\\n--- a/tests/test_marshalling.py\\n+++ b/tests/test_marshalling.py\\n@@ -2,7 +2,7 @@\\n \\n import pytest\\n \\n-from marshmallow import fields, Schema\\n+from marshmallow import fields, Schema, validates\\n from marshmallow.marshalling import Marshaller, Unmarshaller, missing\\n from marshmallow.exceptions import ValidationError\\n \\n@@ -283,3 +283,24 @@ class TestSchema(Schema):\\n \\n             assert result is None\\n             assert excinfo.value.messages == {'foo': {'_schema': ['Invalid input type.']}}\\n+\\n+    # Regression test for https://github.com/marshmallow-code/marshmallow/issues/1342\\n+    def test_deserialize_wrong_nested_type_with_validates_method(self, unmarshal):\\n+        class TestSchema(Schema):\\n+            value = fields.String()\\n+\\n+            @validates('value')\\n+            def validate_value(self, value):\\n+                pass\\n+\\n+        data = {\\n+            'foo': 'not what we need'\\n+        }\\n+        fields_dict = {\\n+            'foo': fields.Nested(TestSchema, required=True)\\n+        }\\n+        with pytest.raises(ValidationError) as excinfo:\\n+            result = unmarshal.deserialize(data, fields_dict)\\n+\\n+            assert result is None\\n+            assert excinfo.value.messages == {'foo': {'_schema': ['Invalid input type.']}}\\n\",\n",
       " 'problem_statement': '[version 2.20.0] TypeError: \\'NoneType\\' object is not subscriptable\\nAfter update from version 2.19.5 to 2.20.0 I got error for code like:\\r\\n\\r\\n```python\\r\\nfrom marshmallow import Schema, fields, validates\\r\\n\\r\\n\\r\\nclass Bar(Schema):\\r\\n    value = fields.String()\\r\\n\\r\\n    @validates(\\'value\\')  # <- issue here\\r\\n    def validate_value(self, value):\\r\\n        pass\\r\\n\\r\\n\\r\\nclass Foo(Schema):\\r\\n    bar = fields.Nested(Bar)\\r\\n\\r\\n\\r\\nsch = Foo()\\r\\n\\r\\nsch.validate({\\r\\n    \\'bar\\': \\'invalid\\',\\r\\n})\\r\\n```\\r\\n\\r\\n```\\r\\nTraceback (most recent call last):\\r\\n  File \"/_/bug_mschema.py\", line 19, in <module>\\r\\n    \\'bar\\': \\'invalid\\',\\r\\n  File \"/_/env/lib/python3.7/site-packages/marshmallow/schema.py\", line 628, in validate\\r\\n    _, errors = self._do_load(data, many, partial=partial, postprocess=False)\\r\\n  File \"/_/env/lib/python3.7/site-packages/marshmallow/schema.py\", line 670, in _do_load\\r\\n    index_errors=self.opts.index_errors,\\r\\n  File \"/_/env/lib/python3.7/site-packages/marshmallow/marshalling.py\", line 292, in deserialize\\r\\n    index=(index if index_errors else None)\\r\\n  File \"/_/env/lib/python3.7/site-packages/marshmallow/marshalling.py\", line 65, in call_and_store\\r\\n    value = getter_func(data)\\r\\n  File \"/_/env/lib/python3.7/site-packages/marshmallow/marshalling.py\", line 285, in <lambda>\\r\\n    data\\r\\n  File \"/_/env/lib/python3.7/site-packages/marshmallow/fields.py\", line 265, in deserialize\\r\\n    output = self._deserialize(value, attr, data)\\r\\n  File \"/_/env/lib/python3.7/site-packages/marshmallow/fields.py\", line 465, in _deserialize\\r\\n    data, errors = self.schema.load(value)\\r\\n  File \"/_/env/lib/python3.7/site-packages/marshmallow/schema.py\", line 588, in load\\r\\n    result, errors = self._do_load(data, many, partial=partial, postprocess=True)\\r\\n  File \"/_/env/lib/python3.7/site-packages/marshmallow/schema.py\", line 674, in _do_load\\r\\n    self._invoke_field_validators(unmarshal, data=result, many=many)\\r\\n  File \"/_/env/lib/python3.7/site-packages/marshmallow/schema.py\", line 894, in _invoke_field_validators\\r\\n    value = data[field_obj.attribute or field_name]\\r\\nTypeError: \\'NoneType\\' object is not subscriptable\\r\\n```\\n',\n",
       " 'hints_text': \"Thanks for reporting. I was able to reproduce this on 2.20.0. This is likely a regression from https://github.com/marshmallow-code/marshmallow/pull/1323 . I don't have time to look into it now. Would appreciate a PR.\",\n",
       " 'created_at': '2019-08-13T04:36:01Z',\n",
       " 'version': '2.20',\n",
       " 'FAIL_TO_PASS': '[\"tests/test_marshalling.py::TestUnmarshaller::test_deserialize_wrong_nested_type_with_validates_method\"]',\n",
       " 'PASS_TO_PASS': '[\"tests/test_marshalling.py::test_missing_is_falsy\", \"tests/test_marshalling.py::TestMarshaller::test_prefix\", \"tests/test_marshalling.py::TestMarshaller::test_marshalling_generator\", \"tests/test_marshalling.py::TestMarshaller::test_default_to_missing\", \"tests/test_marshalling.py::TestMarshaller::test_serialize_fields_with_load_only_param\", \"tests/test_marshalling.py::TestMarshaller::test_missing_data_are_skipped\", \"tests/test_marshalling.py::TestMarshaller::test_serialize_with_load_only_doesnt_validate\", \"tests/test_marshalling.py::TestMarshaller::test_serialize_fields_with_dump_to_param\", \"tests/test_marshalling.py::TestMarshaller::test_serialize_fields_with_dump_to_and_prefix_params\", \"tests/test_marshalling.py::TestMarshaller::test_stores_indices_of_errors_when_many_equals_true\", \"tests/test_marshalling.py::TestMarshaller::test_doesnt_store_errors_when_index_errors_equals_false\", \"tests/test_marshalling.py::TestUnmarshaller::test_extra_data_is_ignored\", \"tests/test_marshalling.py::TestUnmarshaller::test_stores_errors\", \"tests/test_marshalling.py::TestUnmarshaller::test_stores_indices_of_errors_when_many_equals_true\", \"tests/test_marshalling.py::TestUnmarshaller::test_doesnt_store_errors_when_index_errors_equals_false\", \"tests/test_marshalling.py::TestUnmarshaller::test_deserialize\", \"tests/test_marshalling.py::TestUnmarshaller::test_extra_fields\", \"tests/test_marshalling.py::TestUnmarshaller::test_deserialize_many\", \"tests/test_marshalling.py::TestUnmarshaller::test_deserialize_stores_errors\", \"tests/test_marshalling.py::TestUnmarshaller::test_deserialize_fields_with_attribute_param\", \"tests/test_marshalling.py::TestUnmarshaller::test_deserialize_fields_with_load_from_param\", \"tests/test_marshalling.py::TestUnmarshaller::test_deserialize_fields_with_dump_only_param\", \"tests/test_marshalling.py::TestUnmarshaller::test_deserialize_wrong_type_root_data\", \"tests/test_marshalling.py::TestUnmarshaller::test_deserialize_wrong_type_nested_data\"]',\n",
       " 'environment_setup_commit': '7015fc4333a2f32cd58c3465296e834acd4496ff'}"
      ]
     },
     "execution_count": 27,
     "metadata": {},
     "output_type": "execute_result"
    }
   ],
   "source": [
    "data[index]"
   ]
  },
  {
   "cell_type": "code",
   "execution_count": 31,
   "id": "66618013",
   "metadata": {},
   "outputs": [
    {
     "data": {
      "text/plain": [
       "{'system_template': \"SETTING: You are an autonomous programmer, and you're working directly in the command line with a special interface.\\n\\nThe special interface consists of a file editor that shows you {WINDOW} lines of a file at a time.\\nIn addition to typical bash commands, you can also use the following commands to help you navigate and edit files.\\n\\nCOMMANDS:\\n{command_docs}\\n\\nPlease note that THE EDIT COMMAND REQUIRES PROPER INDENTATION. \\nIf you'd like to add the line '        print(x)' you must fully write that out, with all those spaces before the code! Indentation is important and code that is not indented correctly will fail and require fixing before it can be run.\\n\\nRESPONSE FORMAT:\\nYour shell prompt is formatted as follows:\\n(Open file: <path>) <cwd> $\\n\\nYou need to format your output using two fields; discussion and command.\\nYour output should always include _one_ discussion and _one_ command field EXACTLY as in the following example:\\nDISCUSSION\\nFirst I'll start by using ls to see what files are in the current directory. Then maybe we can look at some relevant files to see what they look like.\\n```\\nls -a\\n```\\n\\nYou should only include a *SINGLE* command in the command section and then wait for a response from the shell before continuing with more discussion and commands. Everything you include in the DISCUSSION section will be saved for future reference.\\nIf you'd like to issue two commands at once, PLEASE DO NOT DO THAT! Please instead first submit just the first command, and then after receiving a response you'll be able to issue the second command. \\nYou're free to use any other bash commands you want (e.g. find, grep, cat, ls, cd) in addition to the special commands listed above.\\nHowever, the environment does NOT support interactive session commands (e.g. python, vim), so please do not invoke them.\",\n",
       " 'instance_template': 'We\\'re currently solving the following issue within our repository. Here\\'s the issue text:\\nISSUE:\\n{issue}\\n\\nINSTRUCTIONS:\\nNow, you\\'re going to solve this issue on your own. Your terminal session has started and you\\'re in the repository\\'s root directory. You can use any bash commands or the special interface to help you. Edit all the files you need to and run any checks or tests that you want. \\nRemember, YOU CAN ONLY ENTER ONE COMMAND AT A TIME. You should always wait for feedback after every command. \\nWhen you\\'re satisfied with all of the changes you\\'ve made, you can submit your changes to the code base by simply running the submit command.\\nNote however that you cannot use any interactive session commands (e.g. python, vim) in this environment, but you can write scripts and run them. E.g. you can write a python script and then run it with `python <script_name>.py`.\\n\\nNOTE ABOUT THE EDIT COMMAND: Indentation really matters! When editing a file, make sure to insert appropriate indentation before each line! \\n\\nIMPORTANT TIPS:\\n1. Always start by trying to replicate the bug that the issues discusses. \\n   If the issue includes code for reproducing the bug, we recommend that you re-implement that in your environment, and run it to make sure you can reproduce the bug.\\n   Then start trying to fix it.\\n   When you think you\\'ve fixed the bug, re-run the bug reproduction script to make sure that the bug has indeed been fixed.\\n   \\n   If the bug reproduction script does not print anything when it succesfully runs, we recommend adding a print(\"Script completed successfully, no errors.\") command at the end of the file,\\n   so that you can be sure that the script indeed ran fine all the way through. \\n\\n2. If you run a command and it doesn\\'t work, try running a different command. A command that did not work once will not work the second time unless you modify it!\\n\\n3. If you open a file and need to get to an area around a specific line that is not in the first 100 lines, say line 583, don\\'t just use the scroll_down command multiple times. Instead, use the goto 583 command. It\\'s much quicker. \\n   \\n4. If the bug reproduction script requires inputting/reading a specific file, such as buggy-input.png, and you\\'d like to understand how to input that file, conduct a search in the existing repo code, to see whether someone else has already done that. Do this by running the command: find_file \"buggy-input.png\" If that doensn\\'t work, use the linux \\'find\\' command. \\n\\n5. Always make sure to look at the currently open file and the current working directory (which appears right after the currently open file). The currently open file might be in a different directory than the working directory! Note that some commands, such as \\'create\\', open files, so they might change the current  open file.\\n\\n6. When editing files, it is easy to accidentally specify a wrong line number or to write code with incorrect indentation. Always check the code after you issue an edit to make sure that it reflects what you wanted to accomplish. If it didn\\'t, issue another command to fix it.\\n   \\n\\n(Open file: {open_file})\\n(Current directory: {working_dir})\\nbash-$',\n",
       " 'next_step_template': '{observation}\\n(Open file: {open_file})\\n(Current directory: {working_dir})\\nbash-$',\n",
       " 'next_step_no_output_template': 'Your command ran successfully and did not produce any output.\\n(Open file: {open_file})\\n(Current directory: {working_dir})\\nbash-$',\n",
       " 'demonstration_template': 'Here is a demonstration of how to correctly accomplish this task.\\nIt is included to show you how to correctly use the interface.\\nYou do not need to follow exactly what is done in the demonstration.\\n--- DEMONSTRATION ---\\n{demonstration}\\n--- END OF DEMONSTRATION ---\\n',\n",
       " 'state_command': {'name': 'state',\n",
       "  'code': 'state() {\\n  local working_dir=\"$PWD\";\\n  if [ -z $CURRENT_FILE ]; then\\n      echo \\'{\"open_file\": \"n/a\", \"working_dir\": \"\\'$working_dir\\'\"}\\';\\n  else\\n      echo \\'{\"open_file\": \"\\'$(realpath $CURRENT_FILE)\\'\", \"working_dir\": \"\\'$working_dir\\'\"}\\';\\n  fi\\n};\\n'},\n",
       " 'parse_function': 'ThoughtActionParser',\n",
       " 'env_variables': {'WINDOW': 100,\n",
       "  'OVERLAP': 2,\n",
       "  'CURRENT_LINE': 0,\n",
       "  'CURRENT_FILE': '',\n",
       "  'SEARCH_RESULTS': '()',\n",
       "  'SEARCH_FILES': '()',\n",
       "  'SEARCH_INDEX': 0},\n",
       " 'command_files': ['config/commands/defaults.sh',\n",
       "  'config/commands/search.sh',\n",
       "  'config/commands/edit_linting.sh',\n",
       "  'config/commands/_split_string.py'],\n",
       " 'parse_command': 'ParseCommandDetailed',\n",
       " 'history_processor': 'DefaultHistoryProcessor',\n",
       " 'demonstrations': ['trajectories/demonstrations/replay__marshmallow-code__marshmallow-1867__default_sys-env_window100__t-0.20__p-0.95__c-2.00__install-1/marshmallow-code__marshmallow-1867.traj']}"
      ]
     },
     "execution_count": 31,
     "metadata": {},
     "output_type": "execute_result"
    }
   ],
   "source": [
    "import yaml\n",
    "\n",
    "config_data = \"\"\"system_template: |-\n",
    "  SETTING: You are an autonomous programmer, and you're working directly in the command line with a special interface.\n",
    "\n",
    "  The special interface consists of a file editor that shows you {WINDOW} lines of a file at a time.\n",
    "  In addition to typical bash commands, you can also use the following commands to help you navigate and edit files.\n",
    "\n",
    "  COMMANDS:\n",
    "  {command_docs}\n",
    "\n",
    "  Please note that THE EDIT COMMAND REQUIRES PROPER INDENTATION. \n",
    "  If you'd like to add the line '        print(x)' you must fully write that out, with all those spaces before the code! Indentation is important and code that is not indented correctly will fail and require fixing before it can be run.\n",
    "\n",
    "  RESPONSE FORMAT:\n",
    "  Your shell prompt is formatted as follows:\n",
    "  (Open file: <path>) <cwd> $\n",
    "\n",
    "  You need to format your output using two fields; discussion and command.\n",
    "  Your output should always include _one_ discussion and _one_ command field EXACTLY as in the following example:\n",
    "  DISCUSSION\n",
    "  First I'll start by using ls to see what files are in the current directory. Then maybe we can look at some relevant files to see what they look like.\n",
    "  ```\n",
    "  ls -a\n",
    "  ```\n",
    "\n",
    "  You should only include a *SINGLE* command in the command section and then wait for a response from the shell before continuing with more discussion and commands. Everything you include in the DISCUSSION section will be saved for future reference.\n",
    "  If you'd like to issue two commands at once, PLEASE DO NOT DO THAT! Please instead first submit just the first command, and then after receiving a response you'll be able to issue the second command. \n",
    "  You're free to use any other bash commands you want (e.g. find, grep, cat, ls, cd) in addition to the special commands listed above.\n",
    "  However, the environment does NOT support interactive session commands (e.g. python, vim), so please do not invoke them.\n",
    "instance_template: |-\n",
    "  We're currently solving the following issue within our repository. Here's the issue text:\n",
    "  ISSUE:\n",
    "  {issue}\n",
    "\n",
    "  INSTRUCTIONS:\n",
    "  Now, you're going to solve this issue on your own. Your terminal session has started and you're in the repository's root directory. You can use any bash commands or the special interface to help you. Edit all the files you need to and run any checks or tests that you want. \n",
    "  Remember, YOU CAN ONLY ENTER ONE COMMAND AT A TIME. You should always wait for feedback after every command. \n",
    "  When you're satisfied with all of the changes you've made, you can submit your changes to the code base by simply running the submit command.\n",
    "  Note however that you cannot use any interactive session commands (e.g. python, vim) in this environment, but you can write scripts and run them. E.g. you can write a python script and then run it with `python <script_name>.py`.\n",
    "\n",
    "  NOTE ABOUT THE EDIT COMMAND: Indentation really matters! When editing a file, make sure to insert appropriate indentation before each line! \n",
    "\n",
    "  IMPORTANT TIPS:\n",
    "  1. Always start by trying to replicate the bug that the issues discusses. \n",
    "     If the issue includes code for reproducing the bug, we recommend that you re-implement that in your environment, and run it to make sure you can reproduce the bug.\n",
    "     Then start trying to fix it.\n",
    "     When you think you've fixed the bug, re-run the bug reproduction script to make sure that the bug has indeed been fixed.\n",
    "     \n",
    "     If the bug reproduction script does not print anything when it succesfully runs, we recommend adding a print(\"Script completed successfully, no errors.\") command at the end of the file,\n",
    "     so that you can be sure that the script indeed ran fine all the way through. \n",
    "\n",
    "  2. If you run a command and it doesn't work, try running a different command. A command that did not work once will not work the second time unless you modify it!\n",
    "\n",
    "  3. If you open a file and need to get to an area around a specific line that is not in the first 100 lines, say line 583, don't just use the scroll_down command multiple times. Instead, use the goto 583 command. It's much quicker. \n",
    "     \n",
    "  4. If the bug reproduction script requires inputting/reading a specific file, such as buggy-input.png, and you'd like to understand how to input that file, conduct a search in the existing repo code, to see whether someone else has already done that. Do this by running the command: find_file \"buggy-input.png\" If that doensn't work, use the linux 'find' command. \n",
    "\n",
    "  5. Always make sure to look at the currently open file and the current working directory (which appears right after the currently open file). The currently open file might be in a different directory than the working directory! Note that some commands, such as 'create', open files, so they might change the current  open file.\n",
    "\n",
    "  6. When editing files, it is easy to accidentally specify a wrong line number or to write code with incorrect indentation. Always check the code after you issue an edit to make sure that it reflects what you wanted to accomplish. If it didn't, issue another command to fix it.\n",
    "     \n",
    "\n",
    "  (Open file: {open_file})\n",
    "  (Current directory: {working_dir})\n",
    "  bash-$\n",
    "next_step_template: |-\n",
    "  {observation}\n",
    "  (Open file: {open_file})\n",
    "  (Current directory: {working_dir})\n",
    "  bash-$\n",
    "next_step_no_output_template: |-\n",
    "  Your command ran successfully and did not produce any output.\n",
    "  (Open file: {open_file})\n",
    "  (Current directory: {working_dir})\n",
    "  bash-$\n",
    "demonstration_template: |\n",
    "  Here is a demonstration of how to correctly accomplish this task.\n",
    "  It is included to show you how to correctly use the interface.\n",
    "  You do not need to follow exactly what is done in the demonstration.\n",
    "  --- DEMONSTRATION ---\n",
    "  {demonstration}\n",
    "  --- END OF DEMONSTRATION ---\n",
    "state_command:\n",
    "  name: state\n",
    "  code: |\n",
    "    state() {\n",
    "      local working_dir=\"$PWD\";\n",
    "      if [ -z $CURRENT_FILE ]; then\n",
    "          echo '{\"open_file\": \"n/a\", \"working_dir\": \"'$working_dir'\"}';\n",
    "      else\n",
    "          echo '{\"open_file\": \"'$(realpath $CURRENT_FILE)'\", \"working_dir\": \"'$working_dir'\"}';\n",
    "      fi\n",
    "    };\n",
    "parse_function: ThoughtActionParser\n",
    "env_variables:\n",
    "  WINDOW: 100\n",
    "  OVERLAP: 2\n",
    "  CURRENT_LINE: 0\n",
    "  CURRENT_FILE: ''\n",
    "  SEARCH_RESULTS: ()\n",
    "  SEARCH_FILES: ()\n",
    "  SEARCH_INDEX: 0\n",
    "command_files:\n",
    "- config/commands/defaults.sh\n",
    "- config/commands/search.sh\n",
    "- config/commands/edit_linting.sh\n",
    "- config/commands/_split_string.py\n",
    "parse_command: ParseCommandDetailed\n",
    "history_processor: DefaultHistoryProcessor\n",
    "demonstrations:\n",
    "- trajectories/demonstrations/replay__marshmallow-code__marshmallow-1867__default_sys-env_window100__t-0.20__p-0.95__c-2.00__install-1/marshmallow-code__marshmallow-1867.traj\"\"\"\n",
    "\n",
    "\n",
    "cfg = yaml.safe_load(config_data)\n",
    "cfg"
   ]
  },
  {
   "cell_type": "code",
   "execution_count": 39,
   "id": "758fe5df",
   "metadata": {},
   "outputs": [
    {
     "name": "stdout",
     "output_type": "stream",
     "text": [
      "{\n",
      "  \"command_docs\": null,\n",
      "  \"WINDOW\": 100,\n",
      "  \"OVERLAP\": 2,\n",
      "  \"CURRENT_LINE\": 0,\n",
      "  \"CURRENT_FILE\": \"\",\n",
      "  \"SEARCH_RESULTS\": \"()\",\n",
      "  \"SEARCH_FILES\": \"()\",\n",
      "  \"SEARCH_INDEX\": 0\n",
      "}\n",
      "SETTING: You are an autonomous programmer, and you're working directly in the command line with a special interface.\n",
      "\n",
      "The special interface consists of a file editor that shows you {WINDOW} lines of a file at a time.\n",
      "In addition to typical bash commands, you can also use the following commands to help you navigate and edit files.\n",
      "\n",
      "COMMANDS:\n",
      "{command_docs}\n",
      "\n",
      "Please note that THE EDIT COMMAND REQUIRES PROPER INDENTATION. \n",
      "If you'd like to add the line '        print(x)' you must fully write that out, with all those spaces before the code! Indentation is important and code that is not indented correctly will fail and require fixing before it can be run.\n",
      "\n",
      "RESPONSE FORMAT:\n",
      "Your shell prompt is formatted as follows:\n",
      "(Open file: <path>) <cwd> $\n",
      "\n",
      "You need to format your output using two fields; discussion and command.\n",
      "Your output should always include _one_ discussion and _one_ command field EXACTLY as in the following example:\n",
      "DISCUSSION\n",
      "First I'll start by using ls to see what files are in the current directory. Then maybe we can look at some relevant files to see what they look like.\n",
      "```\n",
      "ls -a\n",
      "```\n",
      "\n",
      "You should only include a *SINGLE* command in the command section and then wait for a response from the shell before continuing with more discussion and commands. Everything you include in the DISCUSSION section will be saved for future reference.\n",
      "If you'd like to issue two commands at once, PLEASE DO NOT DO THAT! Please instead first submit just the first command, and then after receiving a response you'll be able to issue the second command. \n",
      "You're free to use any other bash commands you want (e.g. find, grep, cat, ls, cd) in addition to the special commands listed above.\n",
      "However, the environment does NOT support interactive session commands (e.g. python, vim), so please do not invoke them.\n"
     ]
    }
   ],
   "source": [
    "args = {\n",
    "    \"command_docs\": cfg.get('command_docs', None),\n",
    "    **cfg['env_variables'],\n",
    "}\n",
    "print(json.dumps(args, indent=2))\n",
    "print(cfg['system_template'])#.format(**args))"
   ]
  }
 ],
 "metadata": {
  "kernelspec": {
   "display_name": "base",
   "language": "python",
   "name": "python3"
  },
  "language_info": {
   "codemirror_mode": {
    "name": "ipython",
    "version": 3
   },
   "file_extension": ".py",
   "mimetype": "text/x-python",
   "name": "python",
   "nbconvert_exporter": "python",
   "pygments_lexer": "ipython3",
   "version": "3.9.12"
  },
  "widgets": {
   "application/vnd.jupyter.widget-state+json": {
    "state": {},
    "version_major": 2,
    "version_minor": 0
   }
  }
 },
 "nbformat": 4,
 "nbformat_minor": 5
}
