{
 "cells": [
  {
   "cell_type": "markdown",
   "id": "cb455e98",
   "metadata": {},
   "source": [
    "# 数据集转换"
   ]
  },
  {
   "cell_type": "markdown",
   "id": "5dd43825",
   "metadata": {},
   "source": [
    "## coseal/Magicoder-Evol-Instruct-110K-sft"
   ]
  },
  {
   "cell_type": "code",
   "execution_count": 14,
   "id": "d07fb74f",
   "metadata": {},
   "outputs": [
    {
     "name": "stdout",
     "output_type": "stream",
     "text": [
      "DatasetDict({\n",
      "    train: Dataset({\n",
      "        features: ['instruction', 'response'],\n",
      "        num_rows: 100772\n",
      "    })\n",
      "})\n"
     ]
    }
   ],
   "source": [
    "from datasets import load_dataset\n",
    "\n",
    "dataset = load_dataset(\"coseal/Magicoder-Evol-Instruct-110K-sft\")\n",
    "print(dataset)"
   ]
  },
  {
   "cell_type": "code",
   "execution_count": 15,
   "id": "e79e4378",
   "metadata": {},
   "outputs": [
    {
     "data": {
      "text/html": [
       "<div>\n",
       "<style scoped>\n",
       "    .dataframe tbody tr th:only-of-type {\n",
       "        vertical-align: middle;\n",
       "    }\n",
       "\n",
       "    .dataframe tbody tr th {\n",
       "        vertical-align: top;\n",
       "    }\n",
       "\n",
       "    .dataframe thead th {\n",
       "        text-align: right;\n",
       "    }\n",
       "</style>\n",
       "<table border=\"1\" class=\"dataframe\">\n",
       "  <thead>\n",
       "    <tr style=\"text-align: right;\">\n",
       "      <th></th>\n",
       "      <th>instruction</th>\n",
       "      <th>response</th>\n",
       "    </tr>\n",
       "  </thead>\n",
       "  <tbody>\n",
       "    <tr>\n",
       "      <th>0</th>\n",
       "      <td>Please amend the subsequent Python script so t...</td>\n",
       "      <td>```python\\n# Establish an integer list\\narr = ...</td>\n",
       "    </tr>\n",
       "    <tr>\n",
       "      <th>1</th>\n",
       "      <td>i've got this python code from an ocr tool, bu...</td>\n",
       "      <td>There are several issues with your code like f...</td>\n",
       "    </tr>\n",
       "    <tr>\n",
       "      <th>2</th>\n",
       "      <td>Create a recursive function in Java that predi...</td>\n",
       "      <td>You can achieve this using a combination of re...</td>\n",
       "    </tr>\n",
       "    <tr>\n",
       "      <th>3</th>\n",
       "      <td>Develop a program that uses natural language p...</td>\n",
       "      <td>This task requires writing of a significant vo...</td>\n",
       "    </tr>\n",
       "    <tr>\n",
       "      <th>4</th>\n",
       "      <td>I am trying to create a load testing script fo...</td>\n",
       "      <td>The correct approach would depend on the preci...</td>\n",
       "    </tr>\n",
       "    <tr>\n",
       "      <th>...</th>\n",
       "      <td>...</td>\n",
       "      <td>...</td>\n",
       "    </tr>\n",
       "    <tr>\n",
       "      <th>100767</th>\n",
       "      <td>Create a function that not only detects any ch...</td>\n",
       "      <td>In Python, we could use the difflib module and...</td>\n",
       "    </tr>\n",
       "    <tr>\n",
       "      <th>100768</th>\n",
       "      <td>Conduct a comprehensive exploratory data analy...</td>\n",
       "      <td>Sorry, as an AI developed by Open AI, I can't ...</td>\n",
       "    </tr>\n",
       "    <tr>\n",
       "      <th>100769</th>\n",
       "      <td>I used OCR to get this Python code, but it's f...</td>\n",
       "      <td>Sure, I can help with that. Let me reformat th...</td>\n",
       "    </tr>\n",
       "    <tr>\n",
       "      <th>100770</th>\n",
       "      <td>Write a JavaScript function that will take an ...</td>\n",
       "      <td>Sure, I'll provide you with a simple example o...</td>\n",
       "    </tr>\n",
       "    <tr>\n",
       "      <th>100771</th>\n",
       "      <td>Is there a PDE that decomposes the daily PnL a...</td>\n",
       "      <td>In the Bachelier model, or normally distribute...</td>\n",
       "    </tr>\n",
       "  </tbody>\n",
       "</table>\n",
       "<p>100772 rows × 2 columns</p>\n",
       "</div>"
      ],
      "text/plain": [
       "                                              instruction  \\\n",
       "0       Please amend the subsequent Python script so t...   \n",
       "1       i've got this python code from an ocr tool, bu...   \n",
       "2       Create a recursive function in Java that predi...   \n",
       "3       Develop a program that uses natural language p...   \n",
       "4       I am trying to create a load testing script fo...   \n",
       "...                                                   ...   \n",
       "100767  Create a function that not only detects any ch...   \n",
       "100768  Conduct a comprehensive exploratory data analy...   \n",
       "100769  I used OCR to get this Python code, but it's f...   \n",
       "100770  Write a JavaScript function that will take an ...   \n",
       "100771  Is there a PDE that decomposes the daily PnL a...   \n",
       "\n",
       "                                                 response  \n",
       "0       ```python\\n# Establish an integer list\\narr = ...  \n",
       "1       There are several issues with your code like f...  \n",
       "2       You can achieve this using a combination of re...  \n",
       "3       This task requires writing of a significant vo...  \n",
       "4       The correct approach would depend on the preci...  \n",
       "...                                                   ...  \n",
       "100767  In Python, we could use the difflib module and...  \n",
       "100768  Sorry, as an AI developed by Open AI, I can't ...  \n",
       "100769  Sure, I can help with that. Let me reformat th...  \n",
       "100770  Sure, I'll provide you with a simple example o...  \n",
       "100771  In the Bachelier model, or normally distribute...  \n",
       "\n",
       "[100772 rows x 2 columns]"
      ]
     },
     "execution_count": 15,
     "metadata": {},
     "output_type": "execute_result"
    }
   ],
   "source": [
    "import pandas as pd\n",
    "\n",
    "df = pd.DataFrame(dataset[\"train\"])\n",
    "df"
   ]
  },
  {
   "cell_type": "code",
   "execution_count": 16,
   "id": "dc75960c",
   "metadata": {},
   "outputs": [
    {
     "name": "stderr",
     "output_type": "stream",
     "text": [
      "2024-03-26 19:23:32.328 | INFO     | metagpt.const:get_metagpt_package_root:29 - Package root set to /Users/deryzhou/Downloads/StreamChatPlayground/notebooks\n"
     ]
    },
    {
     "data": {
      "text/html": [
       "<div>\n",
       "<style scoped>\n",
       "    .dataframe tbody tr th:only-of-type {\n",
       "        vertical-align: middle;\n",
       "    }\n",
       "\n",
       "    .dataframe tbody tr th {\n",
       "        vertical-align: top;\n",
       "    }\n",
       "\n",
       "    .dataframe thead th {\n",
       "        text-align: right;\n",
       "    }\n",
       "</style>\n",
       "<table border=\"1\" class=\"dataframe\">\n",
       "  <thead>\n",
       "    <tr style=\"text-align: right;\">\n",
       "      <th></th>\n",
       "      <th>input</th>\n",
       "      <th>output</th>\n",
       "    </tr>\n",
       "  </thead>\n",
       "  <tbody>\n",
       "    <tr>\n",
       "      <th>0</th>\n",
       "      <td>Please amend the subsequent Python script so t...</td>\n",
       "      <td>```python\\n# Establish an integer list\\narr = ...</td>\n",
       "    </tr>\n",
       "    <tr>\n",
       "      <th>1</th>\n",
       "      <td>i've got this python code from an ocr tool, bu...</td>\n",
       "      <td>There are several issues with your code like f...</td>\n",
       "    </tr>\n",
       "    <tr>\n",
       "      <th>3</th>\n",
       "      <td>Develop a program that uses natural language p...</td>\n",
       "      <td>This task requires writing of a significant vo...</td>\n",
       "    </tr>\n",
       "    <tr>\n",
       "      <th>8</th>\n",
       "      <td>Develop a method that not only incorporates a ...</td>\n",
       "      <td>You can implement this task in Python:\\n\\n```p...</td>\n",
       "    </tr>\n",
       "    <tr>\n",
       "      <th>9</th>\n",
       "      <td>Write a Python program that takes a list and a...</td>\n",
       "      <td>Here is a Python program that does just that:\\...</td>\n",
       "    </tr>\n",
       "    <tr>\n",
       "      <th>...</th>\n",
       "      <td>...</td>\n",
       "      <td>...</td>\n",
       "    </tr>\n",
       "    <tr>\n",
       "      <th>100763</th>\n",
       "      <td>Modify and optimize the given erroneous code t...</td>\n",
       "      <td>This erroneous code uses the bubble sort algor...</td>\n",
       "    </tr>\n",
       "    <tr>\n",
       "      <th>100764</th>\n",
       "      <td>Utilize the BeautifulSoup package to orchestra...</td>\n",
       "      <td>You can extract the title tag content from the...</td>\n",
       "    </tr>\n",
       "    <tr>\n",
       "      <th>100765</th>\n",
       "      <td>Implement a function that can insert multiple ...</td>\n",
       "      <td>Here is the Python implementation:\\n\\n```pytho...</td>\n",
       "    </tr>\n",
       "    <tr>\n",
       "      <th>100767</th>\n",
       "      <td>Create a function that not only detects any ch...</td>\n",
       "      <td>In Python, we could use the difflib module and...</td>\n",
       "    </tr>\n",
       "    <tr>\n",
       "      <th>100769</th>\n",
       "      <td>I used OCR to get this Python code, but it's f...</td>\n",
       "      <td>Sure, I can help with that. Let me reformat th...</td>\n",
       "    </tr>\n",
       "  </tbody>\n",
       "</table>\n",
       "<p>43976 rows × 2 columns</p>\n",
       "</div>"
      ],
      "text/plain": [
       "                                                    input  \\\n",
       "0       Please amend the subsequent Python script so t...   \n",
       "1       i've got this python code from an ocr tool, bu...   \n",
       "3       Develop a program that uses natural language p...   \n",
       "8       Develop a method that not only incorporates a ...   \n",
       "9       Write a Python program that takes a list and a...   \n",
       "...                                                   ...   \n",
       "100763  Modify and optimize the given erroneous code t...   \n",
       "100764  Utilize the BeautifulSoup package to orchestra...   \n",
       "100765  Implement a function that can insert multiple ...   \n",
       "100767  Create a function that not only detects any ch...   \n",
       "100769  I used OCR to get this Python code, but it's f...   \n",
       "\n",
       "                                                   output  \n",
       "0       ```python\\n# Establish an integer list\\narr = ...  \n",
       "1       There are several issues with your code like f...  \n",
       "3       This task requires writing of a significant vo...  \n",
       "8       You can implement this task in Python:\\n\\n```p...  \n",
       "9       Here is a Python program that does just that:\\...  \n",
       "...                                                   ...  \n",
       "100763  This erroneous code uses the bubble sort algor...  \n",
       "100764  You can extract the title tag content from the...  \n",
       "100765  Here is the Python implementation:\\n\\n```pytho...  \n",
       "100767  In Python, we could use the difflib module and...  \n",
       "100769  Sure, I can help with that. Let me reformat th...  \n",
       "\n",
       "[43976 rows x 2 columns]"
      ]
     },
     "execution_count": 16,
     "metadata": {},
     "output_type": "execute_result"
    }
   ],
   "source": [
    "from metagpt.utils.common import OutputParser\n",
    "\n",
    "def is_python_code(row):\n",
    "    # instruction = row.instruction\n",
    "    response = row.response\n",
    "\n",
    "    try:\n",
    "        code = OutputParser.parse_code(response, \"python\")\n",
    "        if len(code) > 10:\n",
    "            return True\n",
    "    except:\n",
    "        pass\n",
    "    return False\n",
    "\n",
    "df[\"ispy\"] = df.apply(is_python_code, axis=1)\n",
    "xdf = df[df.ispy][[\"instruction\",\"response\"]].copy().rename(columns={\"instruction\": \"input\", \"response\": \"output\"})\n",
    "xdf"
   ]
  },
  {
   "cell_type": "code",
   "execution_count": 17,
   "id": "9752960f",
   "metadata": {},
   "outputs": [],
   "source": [
    "xdf.to_json(\"magicoder.jsonl\", orient='records', lines=True)"
   ]
  },
  {
   "cell_type": "markdown",
   "id": "2c396d7b",
   "metadata": {},
   "source": [
    "# 数据收集"
   ]
  },
  {
   "cell_type": "markdown",
   "id": "56312a7d",
   "metadata": {},
   "source": [
    "## SWE-bench"
   ]
  },
  {
   "cell_type": "code",
   "execution_count": 22,
   "id": "7eafb5ee",
   "metadata": {},
   "outputs": [
    {
     "data": {
      "text/plain": [
       "{'style-2': <function SWE_bench.inference.make_datasets.create_instance.prompt_style_2(instance)>,\n",
       " 'style-3': <function SWE_bench.inference.make_datasets.create_instance.prompt_style_3(instance)>,\n",
       " 'full_file_gen': <function SWE_bench.inference.make_datasets.create_instance.full_file_gen(instance)>,\n",
       " 'style-2-edits-only': <function SWE_bench.inference.make_datasets.create_instance.prompt_style_2_edits_only(instance)>}"
      ]
     },
     "execution_count": 22,
     "metadata": {},
     "output_type": "execute_result"
    }
   ],
   "source": [
    "import sys\n",
    "sys.path.append(\"..\")\n",
    "\n",
    "from SWE_bench.inference.make_datasets.create_instance import PROMPT_FUNCTIONS, add_text_inputs, TOKENIZER_FUNCS\n",
    "\n",
    "PROMPT_FUNCTIONS"
   ]
  },
  {
   "cell_type": "code",
   "execution_count": 18,
   "id": "7378411f",
   "metadata": {},
   "outputs": [
    {
     "data": {
      "application/vnd.jupyter.widget-view+json": {
       "model_id": "a1de7e2772bc477ab50d2f00e554713e",
       "version_major": 2,
       "version_minor": 0
      },
      "text/plain": [
       "Downloading readme:   0%|          | 0.00/3.88k [00:00<?, ?B/s]"
      ]
     },
     "metadata": {},
     "output_type": "display_data"
    },
    {
     "name": "stderr",
     "output_type": "stream",
     "text": [
      "Downloading data: 100%|██████████| 1.38M/1.38M [00:09<00:00, 150kB/s]\n",
      "Downloading data: 100%|██████████| 11.8M/11.8M [00:09<00:00, 1.25MB/s]\n",
      "Downloading data: 100%|██████████| 107M/107M [00:27<00:00, 3.91MB/s] \n"
     ]
    },
    {
     "data": {
      "application/vnd.jupyter.widget-view+json": {
       "model_id": "c0287ca5b2ab466094a9e237d14514f9",
       "version_major": 2,
       "version_minor": 0
      },
      "text/plain": [
       "Generating dev split:   0%|          | 0/225 [00:00<?, ? examples/s]"
      ]
     },
     "metadata": {},
     "output_type": "display_data"
    },
    {
     "data": {
      "application/vnd.jupyter.widget-view+json": {
       "model_id": "5bc4c0ded1d64ce0834d38b06fe3957e",
       "version_major": 2,
       "version_minor": 0
      },
      "text/plain": [
       "Generating test split:   0%|          | 0/2294 [00:00<?, ? examples/s]"
      ]
     },
     "metadata": {},
     "output_type": "display_data"
    },
    {
     "data": {
      "application/vnd.jupyter.widget-view+json": {
       "model_id": "7ca08bc4912a476d8150f7a5bcb48828",
       "version_major": 2,
       "version_minor": 0
      },
      "text/plain": [
       "Generating train split:   0%|          | 0/19008 [00:00<?, ? examples/s]"
      ]
     },
     "metadata": {},
     "output_type": "display_data"
    },
    {
     "name": "stdout",
     "output_type": "stream",
     "text": [
      "DatasetDict({\n",
      "    dev: Dataset({\n",
      "        features: ['repo', 'instance_id', 'base_commit', 'patch', 'test_patch', 'problem_statement', 'hints_text', 'created_at', 'version', 'FAIL_TO_PASS', 'PASS_TO_PASS', 'environment_setup_commit'],\n",
      "        num_rows: 225\n",
      "    })\n",
      "    test: Dataset({\n",
      "        features: ['repo', 'instance_id', 'base_commit', 'patch', 'test_patch', 'problem_statement', 'hints_text', 'created_at', 'version', 'FAIL_TO_PASS', 'PASS_TO_PASS', 'environment_setup_commit'],\n",
      "        num_rows: 2294\n",
      "    })\n",
      "    train: Dataset({\n",
      "        features: ['repo', 'instance_id', 'base_commit', 'patch', 'test_patch', 'problem_statement', 'hints_text', 'created_at', 'version', 'FAIL_TO_PASS', 'PASS_TO_PASS', 'environment_setup_commit'],\n",
      "        num_rows: 19008\n",
      "    })\n",
      "})\n"
     ]
    }
   ],
   "source": [
    "from datasets import load_dataset\n",
    "\n",
    "dataset = load_dataset(\"princeton-nlp/SWE-bench\")\n",
    "print(dataset)"
   ]
  },
  {
   "cell_type": "code",
   "execution_count": 21,
   "id": "a0034940",
   "metadata": {},
   "outputs": [
    {
     "data": {
      "text/plain": [
       "repo                                                        sqlfluff/sqlfluff\n",
       "instance_id                                           sqlfluff__sqlfluff-4764\n",
       "base_commit                          a820c139ccbe6d1865d73c4a459945cd69899f8f\n",
       "patch                       diff --git a/src/sqlfluff/cli/commands.py b/sr...\n",
       "test_patch                  diff --git a/test/cli/commands_test.py b/test/...\n",
       "problem_statement           Enable quiet mode/no-verbose in CLI for use in...\n",
       "hints_text                                                                   \n",
       "created_at                                               2023-04-16T14:24:42Z\n",
       "version                                                                   1.4\n",
       "FAIL_TO_PASS                [\"test/cli/commands_test.py::test__cli__fix_mu...\n",
       "PASS_TO_PASS                [\"test/cli/commands_test.py::test__cli__comman...\n",
       "environment_setup_commit             d19de0ecd16d298f9e3bfb91da122734c40c01e5\n",
       "Name: 0, dtype: object"
      ]
     },
     "execution_count": 21,
     "metadata": {},
     "output_type": "execute_result"
    }
   ],
   "source": [
    "import pandas as pd\n",
    "\n",
    "df = pd.DataFrame(dataset[\"dev\"])\n",
    "df.iloc[0]"
   ]
  },
  {
   "cell_type": "code",
   "execution_count": 28,
   "id": "763a7a8a",
   "metadata": {},
   "outputs": [
    {
     "name": "stdout",
     "output_type": "stream",
     "text": [
      "You will be provided with a partial code base and an issue statement explaining a problem to resolve.\n",
      "<issue>\n",
      "Enable quiet mode/no-verbose in CLI for use in pre-commit hook\n",
      "There seems to be only an option to increase the level of verbosity when using SQLFluff [CLI](https://docs.sqlfluff.com/en/stable/cli.html), not to limit it further.\n",
      "\n",
      "It would be great to have an option to further limit the amount of prints when running `sqlfluff fix`, especially in combination with deployment using a pre-commit hook. For example, only print the return status and the number of fixes applied, similar to how it is when using `black` in a pre-commit hook:\n",
      "![image](https://user-images.githubusercontent.com/10177212/140480676-dc98d00b-4383-44f2-bb90-3301a6eedec2.png)\n",
      "\n",
      "This hides the potentially long list of fixes that are being applied to the SQL files, which can get quite verbose.\n",
      "\n",
      "</issue>\n",
      "\n",
      "<code>\n",
      "\n",
      "\n",
      "</code>\n",
      "\n",
      "Here is an example of a patch file. It consists of changes to the code base. It specifies the file names, the line numbers of each change, and the removed and added lines. A single patch file can contain changes to multiple files.\n",
      "<patch>\n",
      "--- a/file.py\n",
      "+++ b/file.py\n",
      "@@ -1,27 +1,35 @@\n",
      " def euclidean(a, b):\n",
      "-    while b:\n",
      "-        a, b = b, a % b\n",
      "-    return a\n",
      "+    if b == 0:\n",
      "+        return a\n",
      "+    return euclidean(b, a % b)\n",
      " \n",
      " \n",
      " def bresenham(x0, y0, x1, y1):\n",
      "     points = []\n",
      "     dx = abs(x1 - x0)\n",
      "     dy = abs(y1 - y0)\n",
      "-    sx = 1 if x0 < x1 else -1\n",
      "-    sy = 1 if y0 < y1 else -1\n",
      "-    err = dx - dy\n",
      "+    x, y = x0, y0\n",
      "+    sx = -1 if x0 > x1 else 1\n",
      "+    sy = -1 if y0 > y1 else 1\n",
      " \n",
      "-    while True:\n",
      "-        points.append((x0, y0))\n",
      "-        if x0 == x1 and y0 == y1:\n",
      "-            break\n",
      "-        e2 = 2 * err\n",
      "-        if e2 > -dy:\n",
      "+    if dx > dy:\n",
      "+        err = dx / 2.0\n",
      "+        while x != x1:\n",
      "+            points.append((x, y))\n",
      "             err -= dy\n",
      "-            x0 += sx\n",
      "-        if e2 < dx:\n",
      "-            err += dx\n",
      "-            y0 += sy\n",
      "+            if err < 0:\n",
      "+                y += sy\n",
      "+                err += dx\n",
      "+            x += sx\n",
      "+    else:\n",
      "+        err = dy / 2.0\n",
      "+        while y != y1:\n",
      "+            points.append((x, y))\n",
      "+            err -= dx\n",
      "+            if err < 0:\n",
      "+                x += sx\n",
      "+                err += dy\n",
      "+            y += sy\n",
      " \n",
      "+    points.append((x, y))\n",
      "     return points\n",
      "</patch>\n",
      "\n",
      "I need you to solve the provided issue by generating a single patch file that I can apply directly to this repository using git apply. Please respond with a single patch file in the format shown above.\n",
      "Respond below:\n"
     ]
    }
   ],
   "source": [
    "from copy import deepcopy\n",
    "\n",
    "instance = deepcopy(df.iloc[0])\n",
    "instance[\"readmes\"] = dict()\n",
    "instance[\"file_contents\"] = dict()\n",
    "base_text_inputs = PROMPT_FUNCTIONS[\"style-3\"](instance)\n",
    "print(base_text_inputs)"
   ]
  },
  {
   "cell_type": "code",
   "execution_count": 30,
   "id": "43e3ab95",
   "metadata": {},
   "outputs": [
    {
     "data": {
      "text/plain": [
       "738"
      ]
     },
     "execution_count": 30,
     "metadata": {},
     "output_type": "execute_result"
    }
   ],
   "source": [
    "tokenizer, tokenizer_func = TOKENIZER_FUNCS[\"cl100k\"]\n",
    "len(tokenizer_func(base_text_inputs, tokenizer))"
   ]
  },
  {
   "cell_type": "code",
   "execution_count": null,
   "id": "bfc9eae6",
   "metadata": {},
   "outputs": [],
   "source": []
  }
 ],
 "metadata": {
  "kernelspec": {
   "display_name": "base",
   "language": "python",
   "name": "python3"
  },
  "language_info": {
   "codemirror_mode": {
    "name": "ipython",
    "version": 3
   },
   "file_extension": ".py",
   "mimetype": "text/x-python",
   "name": "python",
   "nbconvert_exporter": "python",
   "pygments_lexer": "ipython3",
   "version": "3.10.12"
  },
  "widgets": {
   "application/vnd.jupyter.widget-state+json": {
    "state": {},
    "version_major": 2,
    "version_minor": 0
   }
  }
 },
 "nbformat": 4,
 "nbformat_minor": 5
}
