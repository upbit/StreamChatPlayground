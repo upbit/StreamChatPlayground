{
 "cells": [
  {
   "cell_type": "code",
   "execution_count": null,
   "id": "ba7766cf-75a4-4370-ba70-573e88e5d7ca",
   "metadata": {},
   "outputs": [
    {
     "data": {
      "text/plain": [
       "'pytorch_screenshot.png'"
      ]
     },
     "execution_count": 1,
     "metadata": {},
     "output_type": "execute_result"
    }
   ],
   "source": [
    "from selenium import webdriver\n",
    "import time\n",
    "\n",
    "# Set up the WebDriver to use Chrome\n",
    "driver = webdriver.Chrome()\n",
    "# Navigate to the PyTorch webpage\n",
    "driver.get('https://pytorch.org/')\n",
    "\n",
    "# Wait for the page to load\n",
    "time.sleep(10)\n",
    "\n",
    "# Take a screenshot of the webpage\n",
    "screenshot_path = 'pytorch_screenshot.png'\n",
    "driver.save_screenshot(screenshot_path)\n",
    "\n",
    "# Close the WebDriver\n",
    "driver.quit()\n",
    "\n",
    "screenshot_path"
   ]
  },
  {
   "cell_type": "code",
   "execution_count": null,
   "id": "2ccba43e-1bd3-4ea0-a417-5e393f3a0c37",
   "metadata": {},
   "outputs": [],
   "source": []
  }
 ],
 "metadata": {
  "kernelspec": {
   "display_name": "base",
   "language": "python",
   "name": "base"
  },
  "language_info": {
   "codemirror_mode": {
    "name": "ipython",
    "version": 3
   },
   "file_extension": ".py",
   "mimetype": "text/x-python",
   "name": "python",
   "nbconvert_exporter": "python",
   "pygments_lexer": "ipython3",
   "version": "3.9.12"
  },
  "widgets": {
   "application/vnd.jupyter.widget-state+json": {
    "state": {},
    "version_major": 2,
    "version_minor": 0
   }
  }
 },
 "nbformat": 4,
 "nbformat_minor": 5
}
